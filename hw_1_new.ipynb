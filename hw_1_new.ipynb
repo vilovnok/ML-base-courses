{
 "cells": [
  {
   "cell_type": "code",
   "execution_count": 162,
   "metadata": {},
   "outputs": [],
   "source": [
    "import numpy as np\n",
    "import pandas as pd\n",
    "\n",
    "import matplotlib.pyplot as plt\n",
    "import seaborn as sns\n",
    "\n",
    "import warnings\n",
    "warnings.filterwarnings('ignore')"
   ]
  },
  {
   "cell_type": "markdown",
   "metadata": {},
   "source": [
    "# EDA\n",
    "<code>Key Features</code>\n",
    "Описания фичей:\n",
    "\n",
    "- ID: Уникальный идентификатор для каждой записи в наборе данных.\n",
    "- Customer_ID: Идентификатор для каждого клиента.\n",
    "- Month: Месяц сбора данных.\n",
    "- Name: Имя клиента.\n",
    "- Age: Возраст клиента.\n",
    "- SSN: Номер социального страхования клиента.\n",
    "- Occupation: Профессия клиента.\n",
    "- Annual_Income: Годовой доход клиента.\n",
    "- Monthly_Inhand_Salary: Ежемесячная зарплата после вычетов.\n",
    "- Num_Bank_Accounts: Количество банковских счетов у клиента.\n",
    "- Num_Credit_Card: Количество кредитных карт у клиента.\n",
    "- Interest_Rate: Процентная ставка по займам.\n",
    "- Num_of_Loan: Количество займов у клиента.\n",
    "- Type_of_Loan: Тип займа, взятого клиентом.\n",
    "- Delay_from_due_date: Количество дней просрочки платежей.\n",
    "- Num_of_Delayed_Payment: Количество просроченных платежей у клиента.\n",
    "- Changed_Credit_Limit: Указывает, был ли изменён кредитный лимит.\n",
    "- Num_Credit_Inquiries: Количество запросов на получение кредита, сделанных клиентом.\n",
    "- Credit_Mix: Сочетание различных типов кредитных счетов у клиента.\n",
    "- Outstanding_Debt: Сумма непогашенного долга.\n",
    "- Credit_Utilization_Ratio: Соотношение использованного кредита к доступному.\n",
    "- Credit_History_Age: Возраст кредитной истории.\n",
    "- Payment_of_Min_Amount: Указывает, выплачена ли минимальная сумма.\n",
    "- Total_EMI_per_month: Общая сумма ежемесячного платежа (EMI), выплачиваемая клиентом.\n",
    "- Amount_invested_monthly: Сумма, инвестируемая клиентом ежемесячно.\n",
    "- Payment_Behaviour: Платежное поведение клиента.\n",
    "- Monthly_Balance: Ежемесячный баланс на счёте.\n",
    "- Credit_Score: Целевая переменная — кредитный рейтинг клиента."
   ]
  },
  {
   "cell_type": "code",
   "execution_count": 163,
   "metadata": {},
   "outputs": [],
   "source": [
    "# посмотрим на данные\n",
    "df = pd.read_csv('dataset/train.csv')"
   ]
  },
  {
   "cell_type": "code",
   "execution_count": 164,
   "metadata": {},
   "outputs": [
    {
     "data": {
      "text/html": [
       "<div>\n",
       "<style scoped>\n",
       "    .dataframe tbody tr th:only-of-type {\n",
       "        vertical-align: middle;\n",
       "    }\n",
       "\n",
       "    .dataframe tbody tr th {\n",
       "        vertical-align: top;\n",
       "    }\n",
       "\n",
       "    .dataframe thead th {\n",
       "        text-align: right;\n",
       "    }\n",
       "</style>\n",
       "<table border=\"1\" class=\"dataframe\">\n",
       "  <thead>\n",
       "    <tr style=\"text-align: right;\">\n",
       "      <th></th>\n",
       "      <th>count</th>\n",
       "      <th>percentage</th>\n",
       "    </tr>\n",
       "  </thead>\n",
       "  <tbody>\n",
       "    <tr>\n",
       "      <th>ID</th>\n",
       "      <td>0</td>\n",
       "      <td>0.00</td>\n",
       "    </tr>\n",
       "    <tr>\n",
       "      <th>Customer_ID</th>\n",
       "      <td>0</td>\n",
       "      <td>0.00</td>\n",
       "    </tr>\n",
       "    <tr>\n",
       "      <th>Month</th>\n",
       "      <td>0</td>\n",
       "      <td>0.00</td>\n",
       "    </tr>\n",
       "    <tr>\n",
       "      <th>Name</th>\n",
       "      <td>9985</td>\n",
       "      <td>9.98</td>\n",
       "    </tr>\n",
       "    <tr>\n",
       "      <th>Age</th>\n",
       "      <td>0</td>\n",
       "      <td>0.00</td>\n",
       "    </tr>\n",
       "    <tr>\n",
       "      <th>SSN</th>\n",
       "      <td>0</td>\n",
       "      <td>0.00</td>\n",
       "    </tr>\n",
       "    <tr>\n",
       "      <th>Occupation</th>\n",
       "      <td>0</td>\n",
       "      <td>0.00</td>\n",
       "    </tr>\n",
       "    <tr>\n",
       "      <th>Annual_Income</th>\n",
       "      <td>0</td>\n",
       "      <td>0.00</td>\n",
       "    </tr>\n",
       "    <tr>\n",
       "      <th>Monthly_Inhand_Salary</th>\n",
       "      <td>15002</td>\n",
       "      <td>15.00</td>\n",
       "    </tr>\n",
       "    <tr>\n",
       "      <th>Num_Bank_Accounts</th>\n",
       "      <td>0</td>\n",
       "      <td>0.00</td>\n",
       "    </tr>\n",
       "    <tr>\n",
       "      <th>Num_Credit_Card</th>\n",
       "      <td>0</td>\n",
       "      <td>0.00</td>\n",
       "    </tr>\n",
       "    <tr>\n",
       "      <th>Interest_Rate</th>\n",
       "      <td>0</td>\n",
       "      <td>0.00</td>\n",
       "    </tr>\n",
       "    <tr>\n",
       "      <th>Num_of_Loan</th>\n",
       "      <td>0</td>\n",
       "      <td>0.00</td>\n",
       "    </tr>\n",
       "    <tr>\n",
       "      <th>Type_of_Loan</th>\n",
       "      <td>11408</td>\n",
       "      <td>11.41</td>\n",
       "    </tr>\n",
       "    <tr>\n",
       "      <th>Delay_from_due_date</th>\n",
       "      <td>0</td>\n",
       "      <td>0.00</td>\n",
       "    </tr>\n",
       "    <tr>\n",
       "      <th>Num_of_Delayed_Payment</th>\n",
       "      <td>7002</td>\n",
       "      <td>7.00</td>\n",
       "    </tr>\n",
       "    <tr>\n",
       "      <th>Changed_Credit_Limit</th>\n",
       "      <td>0</td>\n",
       "      <td>0.00</td>\n",
       "    </tr>\n",
       "    <tr>\n",
       "      <th>Num_Credit_Inquiries</th>\n",
       "      <td>1965</td>\n",
       "      <td>1.96</td>\n",
       "    </tr>\n",
       "    <tr>\n",
       "      <th>Credit_Mix</th>\n",
       "      <td>0</td>\n",
       "      <td>0.00</td>\n",
       "    </tr>\n",
       "    <tr>\n",
       "      <th>Outstanding_Debt</th>\n",
       "      <td>0</td>\n",
       "      <td>0.00</td>\n",
       "    </tr>\n",
       "    <tr>\n",
       "      <th>Credit_Utilization_Ratio</th>\n",
       "      <td>0</td>\n",
       "      <td>0.00</td>\n",
       "    </tr>\n",
       "    <tr>\n",
       "      <th>Credit_History_Age</th>\n",
       "      <td>9030</td>\n",
       "      <td>9.03</td>\n",
       "    </tr>\n",
       "    <tr>\n",
       "      <th>Payment_of_Min_Amount</th>\n",
       "      <td>0</td>\n",
       "      <td>0.00</td>\n",
       "    </tr>\n",
       "    <tr>\n",
       "      <th>Total_EMI_per_month</th>\n",
       "      <td>0</td>\n",
       "      <td>0.00</td>\n",
       "    </tr>\n",
       "    <tr>\n",
       "      <th>Amount_invested_monthly</th>\n",
       "      <td>4479</td>\n",
       "      <td>4.48</td>\n",
       "    </tr>\n",
       "    <tr>\n",
       "      <th>Payment_Behaviour</th>\n",
       "      <td>0</td>\n",
       "      <td>0.00</td>\n",
       "    </tr>\n",
       "    <tr>\n",
       "      <th>Monthly_Balance</th>\n",
       "      <td>1200</td>\n",
       "      <td>1.20</td>\n",
       "    </tr>\n",
       "    <tr>\n",
       "      <th>Credit_Score</th>\n",
       "      <td>0</td>\n",
       "      <td>0.00</td>\n",
       "    </tr>\n",
       "  </tbody>\n",
       "</table>\n",
       "</div>"
      ],
      "text/plain": [
       "                          count  percentage\n",
       "ID                            0        0.00\n",
       "Customer_ID                   0        0.00\n",
       "Month                         0        0.00\n",
       "Name                       9985        9.98\n",
       "Age                           0        0.00\n",
       "SSN                           0        0.00\n",
       "Occupation                    0        0.00\n",
       "Annual_Income                 0        0.00\n",
       "Monthly_Inhand_Salary     15002       15.00\n",
       "Num_Bank_Accounts             0        0.00\n",
       "Num_Credit_Card               0        0.00\n",
       "Interest_Rate                 0        0.00\n",
       "Num_of_Loan                   0        0.00\n",
       "Type_of_Loan              11408       11.41\n",
       "Delay_from_due_date           0        0.00\n",
       "Num_of_Delayed_Payment     7002        7.00\n",
       "Changed_Credit_Limit          0        0.00\n",
       "Num_Credit_Inquiries       1965        1.96\n",
       "Credit_Mix                    0        0.00\n",
       "Outstanding_Debt              0        0.00\n",
       "Credit_Utilization_Ratio      0        0.00\n",
       "Credit_History_Age         9030        9.03\n",
       "Payment_of_Min_Amount         0        0.00\n",
       "Total_EMI_per_month           0        0.00\n",
       "Amount_invested_monthly    4479        4.48\n",
       "Payment_Behaviour             0        0.00\n",
       "Monthly_Balance            1200        1.20\n",
       "Credit_Score                  0        0.00"
      ]
     },
     "execution_count": 164,
     "metadata": {},
     "output_type": "execute_result"
    }
   ],
   "source": [
    "# Посмотрим наличие пустых значений в датасете \n",
    "missing_count = df.isnull().sum()\n",
    "value_count = df.isnull().count()\n",
    "missing_percentage = round(missing_count / value_count * 100, 2)\n",
    "missing_df = pd.DataFrame({\"count\": missing_count, \"percentage\": missing_percentage})\n",
    "missing_df"
   ]
  },
  {
   "cell_type": "markdown",
   "metadata": {},
   "source": [
    "В df довольно много фичей, поэтому отдельно обработаем каждую фичу. "
   ]
  },
  {
   "cell_type": "markdown",
   "metadata": {},
   "source": [
    "### Age\n",
    "Избавимся от всех пользователей кому за 100 и от всех чей возраст отрицательный.  \n",
    "Получим распределение пользователей попадающие в интервал <code>0 >= age <= 100</code>"
   ]
  },
  {
   "cell_type": "code",
   "execution_count": 165,
   "metadata": {},
   "outputs": [
    {
     "data": {
      "text/plain": [
       "array(['23', '-500', '28_', ..., '4808_', '2263', '1342'], dtype=object)"
      ]
     },
     "execution_count": 165,
     "metadata": {},
     "output_type": "execute_result"
    }
   ],
   "source": [
    "df['Age'].unique()"
   ]
  },
  {
   "cell_type": "code",
   "execution_count": 166,
   "metadata": {},
   "outputs": [
    {
     "data": {
      "image/png": "[encoded data removed]",
      "text/plain": [
       "<Figure size 640x480 with 1 Axes>"
      ]
     },
     "metadata": {},
     "output_type": "display_data"
    }
   ],
   "source": [
    "df['Age'] = df['Age'].apply(lambda x: x.replace('_','')).astype(int)                            \n",
    "df = df.query(\"Age >= 0 and Age <= 100\")\n",
    "plt.hist(df['Age'], bins=30);"
   ]
  },
  {
   "cell_type": "markdown",
   "metadata": {},
   "source": [
    "### Occupation\n",
    "посмотрим на все уникальные значения и при необходимости заменим на Unknown"
   ]
  },
  {
   "cell_type": "code",
   "execution_count": 167,
   "metadata": {},
   "outputs": [
    {
     "data": {
      "text/plain": [
       "array(['Scientist', '_______', 'Teacher', 'Engineer', 'Entrepreneur',\n",
       "       'Developer', 'Lawyer', 'Media_Manager', 'Doctor', 'Journalist',\n",
       "       'Manager', 'Accountant', 'Musician', 'Mechanic', 'Writer',\n",
       "       'Architect'], dtype=object)"
      ]
     },
     "execution_count": 167,
     "metadata": {},
     "output_type": "execute_result"
    }
   ],
   "source": [
    "df['Occupation'].unique()"
   ]
  },
  {
   "cell_type": "code",
   "execution_count": 168,
   "metadata": {},
   "outputs": [
    {
     "data": {
      "text/plain": [
       "Occupation\n",
       "Unknown          6873\n",
       "Lawyer           6389\n",
       "Architect        6175\n",
       "Engineer         6172\n",
       "Scientist        6113\n",
       "Accountant       6110\n",
       "Mechanic         6099\n",
       "Media_Manager    6068\n",
       "Teacher          6049\n",
       "Developer        6031\n",
       "Entrepreneur     6015\n",
       "Doctor           5916\n",
       "Journalist       5906\n",
       "Manager          5807\n",
       "Musician         5760\n",
       "Writer           5741\n",
       "Name: count, dtype: int64"
      ]
     },
     "execution_count": 168,
     "metadata": {},
     "output_type": "execute_result"
    }
   ],
   "source": [
    "# колиечство пользоватлелей для определенной доменной области\n",
    "df['Occupation'] = df['Occupation'].apply(lambda x: x.replace('_______', 'Unknown'))\n",
    "df['Occupation'].value_counts()"
   ]
  },
  {
   "cell_type": "code",
   "execution_count": 169,
   "metadata": {},
   "outputs": [
    {
     "data": {
      "image/png": "[encoded data removed]",
      "text/plain": [
       "<Figure size 640x480 with 1 Axes>"
      ]
     },
     "metadata": {},
     "output_type": "display_data"
    }
   ],
   "source": [
    "def seperated(x):\n",
    "    if x == 'good':\n",
    "        return 1\n",
    "    if x == 'Poor':\n",
    "        return 0\n",
    "    else:\n",
    "        return 2\n",
    "\n",
    "df['Credit_Score_show'] = df['Credit_Score'].apply(lambda x: seperated(x))\n",
    "non_successful_loans = df.groupby('Occupation')['Credit_Score_show'].apply(lambda x: (x == 0).mean())\\\n",
    "    .sort_values(ascending=False)\n",
    "\n",
    "sns.barplot(x=non_successful_loans.index, y=non_successful_loans.values)\n",
    "plt.xlabel('Occupation')\n",
    "plt.ylabel('Share of Non-Successful Loans')\n",
    "plt.title('Share of Non-Successful Loans by Occupation')\n",
    "plt.xticks(rotation=45)\n",
    "plt.show()\n",
    "\n",
    "df.drop(columns=['Credit_Score_show'], inplace=True)"
   ]
  },
  {
   "cell_type": "markdown",
   "metadata": {},
   "source": [
    "Можно заметить, что доля неудачных кредитов у <code>предпринимателей</code> больше всего. "
   ]
  },
  {
   "cell_type": "code",
   "execution_count": 170,
   "metadata": {},
   "outputs": [
    {
     "data": {
      "text/plain": [
       "<Axes: xlabel='Count', ylabel='Occupation'>"
      ]
     },
     "execution_count": 170,
     "metadata": {},
     "output_type": "execute_result"
    },
    {
     "data": {
      "image/png": "[encoded data removed]",
      "text/plain": [
       "<Figure size 640x480 with 1 Axes>"
      ]
     },
     "metadata": {},
     "output_type": "display_data"
    }
   ],
   "source": [
    "# посмотрим на долю пользователей из разных доменных областей\n",
    "sns.histplot(df, y='Occupation')"
   ]
  },
  {
   "cell_type": "markdown",
   "metadata": {},
   "source": [
    "Больше всего пользователей из неопределенной области <code>Unknown</code>"
   ]
  },
  {
   "cell_type": "markdown",
   "metadata": {},
   "source": [
    "### Annual_Income\n",
    "приведем к числовому состоянию данные"
   ]
  },
  {
   "cell_type": "code",
   "execution_count": 171,
   "metadata": {},
   "outputs": [],
   "source": [
    "# приведем к числовому состоянию данные\n",
    "df['Annual_Income'] = df['Annual_Income'].apply(lambda x: x.replace('-','').replace('_','')).astype(float)"
   ]
  },
  {
   "cell_type": "markdown",
   "metadata": {},
   "source": [
    "### Monthly_Inhand_Salary\n",
    "Заполним все пустые значения для Monthly_Inhand_Salary соответствующим <code>value = Annual_Income / 12</code>"
   ]
  },
  {
   "cell_type": "code",
   "execution_count": 172,
   "metadata": {},
   "outputs": [],
   "source": [
    "df[\"Monthly_Inhand_Salary\"] = df[\"Monthly_Inhand_Salary\"].fillna(df[\"Annual_Income\"]/12)"
   ]
  },
  {
   "cell_type": "markdown",
   "metadata": {},
   "source": [
    "### Monthly_Balance\n",
    "Заполним все nan-ы 0 и приведем к числовому виду."
   ]
  },
  {
   "cell_type": "code",
   "execution_count": 173,
   "metadata": {},
   "outputs": [],
   "source": [
    "df[\"Monthly_Balance\"] = df[\"Monthly_Balance\"].apply(lambda x: str(x))\n",
    "df['Monthly_Balance'].replace('nan', '0', inplace=True)\n",
    "df['Monthly_Balance'].replace('__-333333333333333333333333333__', '0', inplace=True)\n",
    "df[\"Monthly_Balance\"] = df[\"Monthly_Balance\"].astype(np.float16)"
   ]
  },
  {
   "cell_type": "markdown",
   "metadata": {},
   "source": [
    "### Changed_Credit_Limit\n",
    "Преобразуем все данные, которые содержат \"-\" и \"_\".  "
   ]
  },
  {
   "cell_type": "code",
   "execution_count": 174,
   "metadata": {},
   "outputs": [],
   "source": [
    "df[\"Changed_Credit_Limit\"] = df[\"Changed_Credit_Limit\"].str.replace(\"_\" , \"\").str.replace(\"-\" , \"\")\n",
    "df['Changed_Credit_Limit'] = pd.to_numeric(df['Changed_Credit_Limit'], errors='coerce')"
   ]
  },
  {
   "cell_type": "markdown",
   "metadata": {},
   "source": [
    "### Changed_Credit_Limit\n",
    "Преобразуем все данные и приведем к числовому виду."
   ]
  },
  {
   "cell_type": "code",
   "execution_count": 175,
   "metadata": {},
   "outputs": [],
   "source": [
    "df['Num_of_Loan'] = df['Num_of_Loan'].str.replace(\"_\" , \"\").str.replace(\"-100\" , \"0\").astype(np.int16)"
   ]
  },
  {
   "cell_type": "markdown",
   "metadata": {},
   "source": [
    "### Payment_of_Min_Amount\n",
    "Преобразуем данные из 'No' в 'NM'."
   ]
  },
  {
   "cell_type": "code",
   "execution_count": 176,
   "metadata": {},
   "outputs": [],
   "source": [
    "df['Payment_of_Min_Amount'] = df['Payment_of_Min_Amount'].apply(lambda x : 'No' if x == 'NM' else x)"
   ]
  },
  {
   "cell_type": "markdown",
   "metadata": {},
   "source": [
    "### Num_of_Delayed_Payment\n",
    "Заполняем все данные и приведем к числовому виду."
   ]
  },
  {
   "cell_type": "code",
   "execution_count": 177,
   "metadata": {},
   "outputs": [],
   "source": [
    "df[\"Num_of_Delayed_Payment\"] = df[\"Num_of_Delayed_Payment\"].str.replace(\"_\" , \"\").str.replace(\"-\",\"\").replace(np.nan,'0').astype(np.int16)"
   ]
  },
  {
   "cell_type": "markdown",
   "metadata": {},
   "source": [
    "### Payment_Behaviour\n",
    "Заполняем все \"!@9#%8\" значениями nan."
   ]
  },
  {
   "cell_type": "code",
   "execution_count": 178,
   "metadata": {},
   "outputs": [],
   "source": [
    "df[\"Payment_Behaviour\"] = df[\"Payment_Behaviour\"].replace(\"!@9#%8\", np.nan)"
   ]
  },
  {
   "cell_type": "markdown",
   "metadata": {},
   "source": [
    "### Credit_Mix\n",
    "заменим пропуски на Unknown"
   ]
  },
  {
   "cell_type": "code",
   "execution_count": 179,
   "metadata": {},
   "outputs": [
    {
     "data": {
      "text/plain": [
       "array(['_', 'Good', 'Standard', 'Bad'], dtype=object)"
      ]
     },
     "execution_count": 179,
     "metadata": {},
     "output_type": "execute_result"
    }
   ],
   "source": [
    "df[\"Credit_Mix\"].unique()"
   ]
  },
  {
   "cell_type": "code",
   "execution_count": 180,
   "metadata": {},
   "outputs": [],
   "source": [
    "df[\"Credit_Mix\"] = df[\"Credit_Mix\"].str.replace(\"_\" , \"Unknown\")"
   ]
  },
  {
   "cell_type": "markdown",
   "metadata": {},
   "source": [
    "### Outstanding_Debt\n",
    "Обработаем параметр, который указывает сумму непогашенного долга."
   ]
  },
  {
   "cell_type": "code",
   "execution_count": 181,
   "metadata": {},
   "outputs": [
    {
     "data": {
      "text/plain": [
       "array(['809.98', '605.03', '1303.01', ..., '3571.7_', '3571.7', '502.38'],\n",
       "      dtype=object)"
      ]
     },
     "execution_count": 181,
     "metadata": {},
     "output_type": "execute_result"
    }
   ],
   "source": [
    "df[\"Outstanding_Debt\"].unique()"
   ]
  },
  {
   "cell_type": "code",
   "execution_count": 182,
   "metadata": {},
   "outputs": [],
   "source": [
    "df[\"Outstanding_Debt\"] = df[\"Outstanding_Debt\"].str.replace(\"_\" , \"\").astype(np.float16)"
   ]
  },
  {
   "cell_type": "markdown",
   "metadata": {},
   "source": [
    "### Credit_History_Age\n",
    "Переведем историю пользователя в числовой параметер (месяцы)"
   ]
  },
  {
   "cell_type": "code",
   "execution_count": 183,
   "metadata": {},
   "outputs": [
    {
     "data": {
      "text/plain": [
       "0         22 Years and 1 Months\n",
       "1                           NaN\n",
       "3         22 Years and 4 Months\n",
       "4         22 Years and 5 Months\n",
       "5         22 Years and 6 Months\n",
       "                  ...          \n",
       "99995     31 Years and 6 Months\n",
       "99996     31 Years and 7 Months\n",
       "99997     31 Years and 8 Months\n",
       "99998     31 Years and 9 Months\n",
       "99999    31 Years and 10 Months\n",
       "Name: Credit_History_Age, Length: 97224, dtype: object"
      ]
     },
     "execution_count": 183,
     "metadata": {},
     "output_type": "execute_result"
    }
   ],
   "source": [
    "df['Credit_History_Age']"
   ]
  },
  {
   "cell_type": "code",
   "execution_count": 184,
   "metadata": {},
   "outputs": [],
   "source": [
    "def parse_years_and_months_to_months(age):\n",
    "    if isinstance(age, str):\n",
    "        age_parts = age.split(' Years and ')\n",
    "        years = int(age_parts[0]) if 'Years' in age else 0 \n",
    "        months_str = age_parts[1].split(' Months')[0] if 'Months' in age_parts[1] else '0' \n",
    "        months = int(months_str)\n",
    "        total_months = years * 12 + months\n",
    "        return total_months\n",
    "    else:\n",
    "        return 0  \n",
    "    \n",
    "df['Credit_History_Age_Months'] = df['Credit_History_Age'].apply(parse_years_and_months_to_months)\n",
    "df.drop(columns=['Credit_History_Age'], inplace=True)"
   ]
  },
  {
   "cell_type": "markdown",
   "metadata": {},
   "source": [
    "### Amount_invested_monthly\n",
    "Преобразуем __ 10000 __, np.nan\n"
   ]
  },
  {
   "cell_type": "code",
   "execution_count": 185,
   "metadata": {},
   "outputs": [],
   "source": [
    "df['Amount_invested_monthly'] = df['Amount_invested_monthly'].replace('__10000__', np.nan)\n",
    "df[\"Amount_invested_monthly\"] = df[\"Amount_invested_monthly\"].astype(float)"
   ]
  },
  {
   "cell_type": "markdown",
   "metadata": {},
   "source": [
    "### Credit_Score\n",
    "Создадим bar-plot для целевой переменной"
   ]
  },
  {
   "cell_type": "code",
   "execution_count": 186,
   "metadata": {},
   "outputs": [
    {
     "data": {
      "image/png": "[encoded data removed]",
      "text/plain": [
       "<Figure size 800x600 with 1 Axes>"
      ]
     },
     "metadata": {},
     "output_type": "display_data"
    }
   ],
   "source": [
    "plt.figure(figsize=(8, 6))\n",
    "ax=sns.countplot(data=df, x='Credit_Score')\n",
    "ax.bar_label(ax.containers[0])\n",
    "plt.title('Credit_Score Distribution in Credit Score Dataset')\n",
    "plt.xlabel('Credit_Score')\n",
    "plt.ylabel('Count')\n",
    "plt.show()"
   ]
  },
  {
   "cell_type": "markdown",
   "metadata": {},
   "source": [
    "Прослеживается дисбаланс классов целевого параметра. "
   ]
  },
  {
   "cell_type": "markdown",
   "metadata": {},
   "source": [
    "### Сохраним df"
   ]
  },
  {
   "cell_type": "code",
   "execution_count": 188,
   "metadata": {},
   "outputs": [],
   "source": [
    "df = df.drop(columns=[\"ID\", \"Name\", \"SSN\", \"Type_of_Loan\"])\n",
    "df.to_csv('data/prep_data.csv', index=False)"
   ]
  }
 ],
 "metadata": {
  "kernelspec": {
   "display_name": ".venv",
   "language": "python",
   "name": "python3"
  },
  "language_info": {
   "codemirror_mode": {
    "name": "ipython",
    "version": 3
   },
   "file_extension": ".py",
   "mimetype": "text/x-python",
   "name": "python",
   "nbconvert_exporter": "python",
   "pygments_lexer": "ipython3",
   "version": "3.10.6"
  }
 },
 "nbformat": 4,
 "nbformat_minor": 2
}
